{
 "cells": [
  {
   "cell_type": "code",
   "execution_count": 12,
   "metadata": {},
   "outputs": [],
   "source": [
    "import cv2\n",
    "import mediapipe as mp\n",
    "import numpy as np\n",
    "import os"
   ]
  },
  {
   "cell_type": "code",
   "execution_count": 13,
   "metadata": {},
   "outputs": [],
   "source": [
    "mp_drawing = mp.solutions.drawing_utils\n",
    "mp_drawing_styles = mp.solutions.drawing_styles\n",
    "mp_pose = mp.solutions.pose"
   ]
  },
  {
   "cell_type": "code",
   "execution_count": 14,
   "metadata": {},
   "outputs": [],
   "source": [
    "# 비디오 파일 이름\n",
    "input_file = \"D:\\\\Pitch\\\\sample_videos\\\\deGrom_home.mp4\" # 여기에 비디오 경로 넣으면 됩니다!\n",
    "\n",
    "# 비디오 파일의 경우 이것을 사용하세요:\n",
    "cap = cv2.VideoCapture(input_file)\n",
    "frame_width = int(cap.get(3))\n",
    "frame_height = int(cap.get(4))"
   ]
  },
  {
   "cell_type": "code",
   "execution_count": 15,
   "metadata": {},
   "outputs": [],
   "source": [
    "# 출력 파일 경로 및 이름 설정\n",
    "output_file = os.path.splitext(input_file)[0] + \"_dotted.mp4\"\n",
    "out = cv2.VideoWriter(output_file,cv2.VideoWriter_fourcc('M','J','P','G'), 10, (frame_width,frame_height))"
   ]
  },
  {
   "cell_type": "code",
   "execution_count": 16,
   "metadata": {},
   "outputs": [
    {
     "name": "stdout",
     "output_type": "stream",
     "text": [
      "비디오 파일을 처리하는데 실패했습니다.\n"
     ]
    }
   ],
   "source": [
    "with mp_pose.Pose(\n",
    "        min_detection_confidence=0.5,\n",
    "        min_tracking_confidence=0.5) as pose:\n",
    "    \n",
    "    while cap.isOpened():\n",
    "        success, image = cap.read()\n",
    "        if not success:\n",
    "            print(\"비디오 파일을 처리하는데 실패했습니다.\")\n",
    "            break\n",
    "\n",
    "        # 필요에 따라 성능 향상을 위해 이미지 작성을 불가능함으로 기본 설정합니다.\n",
    "        image.flags.writeable = False\n",
    "        image = cv2.cvtColor(image, cv2.COLOR_BGR2RGB)\n",
    "        results = pose.process(image)\n",
    "\n",
    "        # 포즈 주석을 이미지 위에 그립니다.\n",
    "        image.flags.writeable = True\n",
    "        image = cv2.cvtColor(image, cv2.COLOR_RGB2BGR)\n",
    "        mp_drawing.draw_landmarks(\n",
    "            image,\n",
    "            results.pose_landmarks,\n",
    "            mp_pose.POSE_CONNECTIONS,\n",
    "            landmark_drawing_spec=mp_drawing_styles.get_default_pose_landmarks_style())\n",
    "        \n",
    "        # 팔꿈치 위치를 찍기\n",
    "        if results.pose_landmarks:\n",
    "            for landmark in results.pose_landmarks.landmark:\n",
    "                if landmark.HasField('visibility'):\n",
    "                    if landmark.visibility < 0.5:\n",
    "                        continue\n",
    "                if landmark.HasField('presence'):\n",
    "                    if landmark.presence < 0.5:\n",
    "                        continue\n",
    "                # 왼쪽 팔꿈치\n",
    "                if landmark.type == mp_pose.PoseLandmark.LEFT_ELBOW:\n",
    "                    cv2.circle(image, (int(landmark.x * image_width), int(landmark.y * image_height)), 5, (0, 255, 0), -1)\n",
    "                # 오른쪽 팔꿈치\n",
    "                if landmark.type == mp_pose.PoseLandmark.RIGHT_ELBOW:\n",
    "                    cv2.circle(image, (int(landmark.x * image_width), int(landmark.y * image_height)), 5, (0, 0, 255), -1)\n",
    "\n",
    "        # 프레임을 출력 파일에 작성\n",
    "        out.write(image)\n",
    "\n",
    "        cv2.imshow('MediaPipe Pose', image)\n",
    "        if cv2.waitKey(5) & 0xFF == 27:\n",
    "            break\n",
    "cap.release()\n",
    "out.release()  # 출력 파일 닫기\n",
    "cv2.destroyAllWindows()"
   ]
  },
  {
   "cell_type": "code",
   "execution_count": 6,
   "metadata": {},
   "outputs": [],
   "source": [
    "import cv2\n",
    "\n",
    "cap = cv2.VideoCapture(output_file)\n",
    "\n",
    "if (cap.isOpened()== False): \n",
    "    print(\"비디오를 열 수 없습니다.\")\n",
    "  \n",
    "while(cap.isOpened()):\n",
    "    ret, frame = cap.read()\n",
    "    if ret == True:\n",
    "        cv2.imshow('Frame', frame)\n",
    "        # q 키를 눌러 비디오 재생을 중지합니다.\n",
    "        if cv2.waitKey(25) & 0xFF == ord('q'):\n",
    "            break\n",
    "    else: \n",
    "        break\n",
    "\n",
    "cap.release()\n",
    "cv2.destroyAllWindows()\n",
    "\n",
    "# q 누르면 비디오 중지됩니다!!! 제발!!!"
   ]
  },
  {
   "cell_type": "code",
   "execution_count": null,
   "metadata": {},
   "outputs": [],
   "source": []
  }
 ],
 "metadata": {
  "kernelspec": {
   "display_name": "PitchingTrack",
   "language": "python",
   "name": "python3"
  },
  "language_info": {
   "codemirror_mode": {
    "name": "ipython",
    "version": 3
   },
   "file_extension": ".py",
   "mimetype": "text/x-python",
   "name": "python",
   "nbconvert_exporter": "python",
   "pygments_lexer": "ipython3",
   "version": "3.11.3"
  },
  "orig_nbformat": 4
 },
 "nbformat": 4,
 "nbformat_minor": 2
}
