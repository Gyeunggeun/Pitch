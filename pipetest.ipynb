{
 "cells": [
  {
   "cell_type": "code",
   "execution_count": 6,
   "metadata": {},
   "outputs": [],
   "source": [
    "import cv2\n",
    "import mediapipe as mp\n",
    "import numpy as np\n",
    "import os"
   ]
  },
  {
   "cell_type": "code",
   "execution_count": 7,
   "metadata": {},
   "outputs": [],
   "source": [
    "mp_drawing = mp.solutions.drawing_utils\n",
    "mp_drawing_styles = mp.solutions.drawing_styles\n",
    "mp_pose = mp.solutions.pose"
   ]
  },
  {
   "cell_type": "code",
   "execution_count": 119,
   "metadata": {},
   "outputs": [],
   "source": [
    "# 비디오 파일 이름\n",
    "input_file = \"pitch_videos/yong11.mp4\" # 여기에 비디오 경로 넣으면 됩니다!\n",
    "\n",
    "# 비디오 파일의 경우 이것을 사용하세요:\n",
    "cap = cv2.VideoCapture(input_file)\n",
    "frame_width = int(cap.get(3))\n",
    "frame_height = int(cap.get(4))"
   ]
  },
  {
   "cell_type": "code",
   "execution_count": 120,
   "metadata": {},
   "outputs": [],
   "source": [
    "# 출력 파일 경로 및 이름 설정\n",
    "output_file = os.path.splitext(input_file)[0] + \"_dotted.mp4\"\n",
    "out = cv2.VideoWriter(output_file,cv2.VideoWriter_fourcc('M','J','P','G'), 10, (frame_width,frame_height))"
   ]
  },
  {
   "cell_type": "code",
   "execution_count": 121,
   "metadata": {},
   "outputs": [
    {
     "name": "stdout",
     "output_type": "stream",
     "text": [
      "비디오 파일을 처리하는데 실패했습니다.\n"
     ]
    }
   ],
   "source": [
    "# 팔꿈치 관절 좌표화 코드\n",
    "# left_elbow_coordinates = [] # 좌완투수\n",
    "right_elbow_coordinates = [] # 우완투수, 위 리스트와 둘 중 하나는 주석처리해야 합니다.\n",
    "\n",
    "with mp_pose.Pose(\n",
    "        min_detection_confidence=0.5,\n",
    "        min_tracking_confidence=0.5) as pose:\n",
    "    \n",
    "    while cap.isOpened():\n",
    "        success, image = cap.read()\n",
    "        if not success:\n",
    "            print(\"비디오 파일을 처리하는데 실패했습니다.\")\n",
    "            break\n",
    "\n",
    "        image.flags.writeable = False\n",
    "        image = cv2.cvtColor(image, cv2.COLOR_BGR2RGB)\n",
    "        results = pose.process(image)\n",
    "\n",
    "        image.flags.writeable = True\n",
    "        image = cv2.cvtColor(image, cv2.COLOR_RGB2BGR)\n",
    "        mp_drawing.draw_landmarks(\n",
    "            image,\n",
    "            results.pose_landmarks,\n",
    "            mp_pose.POSE_CONNECTIONS,\n",
    "            landmark_drawing_spec=mp_drawing_styles.get_default_pose_landmarks_style())\n",
    "        \n",
    "        image_height, image_width, _ = image.shape\n",
    "\n",
    "        if results.pose_landmarks:\n",
    "            # left_elbow = results.pose_landmarks.landmark[mp_pose.PoseLandmark.LEFT_ELBOW.value]\n",
    "            # cv2.circle(image, (int(left_elbow.x * image_width), int(left_elbow.y * image_height)), 5, (0, 255, 0), -1)\n",
    "            # left_elbow_coordinates.append((left_elbow.x, left_elbow.y))\n",
    "\n",
    "            right_elbow = results.pose_landmarks.landmark[mp_pose.PoseLandmark.RIGHT_ELBOW.value]\n",
    "            cv2.circle(image, (int(right_elbow.x * image_width), int(right_elbow.y * image_height)), 5, (0, 0, 255), -1)\n",
    "            right_elbow_coordinates.append((right_elbow.x, right_elbow.y))\n",
    "\n",
    "        out.write(image)\n",
    "\n",
    "        cv2.imshow('MediaPipe Pose', image)\n",
    "        if cv2.waitKey(5) & 0xFF == 27:\n",
    "            break\n",
    "cap.release()\n",
    "out.release()  # 출력 파일 닫기\n",
    "cv2.destroyAllWindows()"
   ]
  },
  {
   "cell_type": "code",
   "execution_count": 12,
   "metadata": {},
   "outputs": [
    {
     "name": "stdout",
     "output_type": "stream",
     "text": [
      "Frame 1: x = 254.1355323791504, y = 301.0883688926697\n",
      "Frame 2: x = 257.2627830505371, y = 301.9400882720947\n",
      "Frame 3: x = 253.69329452514648, y = 301.4859366416931\n",
      "Frame 4: x = 253.7015151977539, y = 298.94646406173706\n",
      "Frame 5: x = 250.15838623046875, y = 297.7630305290222\n",
      "Frame 6: x = 248.24954986572266, y = 296.9235849380493\n",
      "Frame 7: x = 251.4297103881836, y = 296.80488109588623\n",
      "Frame 8: x = 250.59720993041992, y = 298.73186588287354\n",
      "Frame 9: x = 248.04737091064453, y = 300.05138397216797\n",
      "Frame 10: x = 244.66726303100586, y = 296.8107604980469\n",
      "Frame 11: x = 242.2184944152832, y = 297.11037397384644\n",
      "Frame 12: x = 246.39276504516602, y = 304.67235803604126\n",
      "Frame 13: x = 246.53827667236328, y = 307.9030466079712\n",
      "Frame 14: x = 246.6763687133789, y = 309.79400396347046\n",
      "Frame 15: x = 255.33714294433594, y = 320.31195402145386\n",
      "Frame 16: x = 261.39087677001953, y = 335.65605640411377\n",
      "Frame 17: x = 262.28445053100586, y = 348.776113986969\n",
      "Frame 18: x = 264.6213722229004, y = 366.24937534332275\n",
      "Frame 19: x = 270.1570129394531, y = 380.61683177948\n",
      "Frame 20: x = 268.3766555786133, y = 378.63916397094727\n",
      "Frame 21: x = 259.0732192993164, y = 398.2539224624634\n",
      "Frame 22: x = 307.1736526489258, y = 391.67542934417725\n",
      "Frame 23: x = 248.5354232788086, y = 408.97520542144775\n",
      "Frame 24: x = 206.47245407104492, y = 414.83503818511963\n",
      "Frame 25: x = 186.1730194091797, y = 411.59900665283203\n",
      "Frame 26: x = 192.0486068725586, y = 405.05815029144287\n",
      "Frame 27: x = 193.6809539794922, y = 386.164927482605\n",
      "Frame 28: x = 190.38930892944336, y = 363.46760272979736\n",
      "Frame 29: x = 198.06415557861328, y = 334.9255084991455\n",
      "Frame 30: x = 202.4458885192871, y = 328.7491750717163\n",
      "Frame 31: x = 218.69556427001953, y = 341.06175899505615\n",
      "Frame 32: x = 221.1856460571289, y = 368.1916809082031\n",
      "Frame 33: x = 262.3274230957031, y = 384.91682052612305\n",
      "Frame 34: x = 322.6813507080078, y = 383.6348533630371\n",
      "Frame 35: x = 460.09830474853516, y = 484.9648904800415\n",
      "Frame 36: x = 520.3609085083008, y = 332.95539379119873\n",
      "Frame 37: x = 538.2120513916016, y = 346.0522770881653\n",
      "Frame 38: x = 558.3660125732422, y = 354.33942317962646\n",
      "Frame 39: x = 529.0007781982422, y = 401.29722118377686\n",
      "Frame 40: x = 506.4765167236328, y = 445.49766540527344\n",
      "Frame 41: x = 498.1062316894531, y = 472.72200107574463\n",
      "Frame 42: x = 497.97985076904297, y = 471.5769338607788\n",
      "Frame 43: x = 521.9242477416992, y = 448.18352222442627\n",
      "Frame 44: x = 524.8629760742188, y = 442.63203620910645\n",
      "Frame 45: x = 476.5696716308594, y = 457.39744663238525\n",
      "Frame 46: x = 463.0939483642578, y = 462.4532175064087\n",
      "Frame 47: x = 450.1852035522461, y = 486.1532163619995\n",
      "Frame 48: x = 456.9721984863281, y = 484.8003101348877\n",
      "Frame 49: x = 460.54222106933594, y = 479.03523445129395\n",
      "Frame 50: x = 494.58518981933594, y = 458.91167163848877\n",
      "Frame 51: x = 516.8340301513672, y = 416.2899971008301\n",
      "Frame 52: x = 532.6526641845703, y = 386.31736278533936\n",
      "Frame 53: x = 521.7824554443359, y = 415.2624750137329\n",
      "Frame 54: x = 527.9015350341797, y = 422.86303997039795\n",
      "Frame 55: x = 494.549560546875, y = 417.76551246643066\n",
      "Frame 56: x = 491.59671783447266, y = 422.1672534942627\n",
      "Frame 57: x = 464.3147659301758, y = 424.93430614471436\n",
      "Frame 58: x = 460.72242736816406, y = 427.18714714050293\n",
      "Frame 59: x = 446.28684997558594, y = 425.65455436706543\n",
      "Frame 60: x = 470.31482696533203, y = 415.68806648254395\n",
      "Frame 61: x = 482.77591705322266, y = 394.84768867492676\n",
      "Frame 62: x = 504.21260833740234, y = 405.4959297180176\n",
      "Frame 63: x = 505.9414291381836, y = 408.78504753112793\n",
      "Frame 64: x = 505.72021484375, y = 408.0891752243042\n",
      "Frame 65: x = 515.1035308837891, y = 405.45777797698975\n",
      "Frame 66: x = 517.7211380004883, y = 403.66541862487793\n",
      "Frame 67: x = 524.9211502075195, y = 402.3643970489502\n",
      "Frame 68: x = 528.6615753173828, y = 399.3199396133423\n",
      "Frame 69: x = 526.2786102294922, y = 398.7877035140991\n",
      "Frame 70: x = 525.779914855957, y = 400.4208469390869\n",
      "Frame 71: x = 538.1436920166016, y = 401.4233064651489\n",
      "Frame 72: x = 535.2213287353516, y = 401.6681385040283\n",
      "Frame 73: x = 537.6716995239258, y = 401.0899829864502\n",
      "Frame 74: x = 537.2068405151367, y = 401.08745098114014\n",
      "Frame 75: x = 540.0972366333008, y = 401.37412548065186\n",
      "Frame 76: x = 542.7445602416992, y = 396.8425226211548\n",
      "Frame 77: x = 540.3928375244141, y = 394.92369174957275\n",
      "Frame 78: x = 535.7028961181641, y = 395.83924770355225\n",
      "Frame 79: x = 551.4484405517578, y = 383.46362113952637\n",
      "Frame 80: x = 547.6727294921875, y = 380.34024238586426\n",
      "Frame 81: x = 532.3804473876953, y = 376.5094470977783\n",
      "Frame 82: x = 532.3316192626953, y = 376.56047344207764\n",
      "Frame 83: x = 529.0739822387695, y = 374.4401550292969\n",
      "Frame 84: x = 529.7148895263672, y = 367.72523403167725\n",
      "Frame 85: x = 535.250358581543, y = 370.19591331481934\n",
      "Frame 86: x = 535.8049392700195, y = 371.01945877075195\n",
      "Frame 87: x = 535.3642654418945, y = 367.1089696884155\n",
      "Frame 88: x = 544.097900390625, y = 365.0263738632202\n",
      "Frame 89: x = 547.1160888671875, y = 365.55418968200684\n",
      "Frame 90: x = 553.9312744140625, y = 355.4523038864136\n",
      "Frame 91: x = 552.2462844848633, y = 353.14614057540894\n"
     ]
    }
   ],
   "source": [
    "# 팔꿈치 좌표 출력\n",
    "for i, coord in enumerate(right_elbow_coordinates):\n",
    "    print(f\"Frame {i+1}: x = {coord[0] * image_width}, y = {coord[1] * image_height}\")"
   ]
  },
  {
   "cell_type": "code",
   "execution_count": 13,
   "metadata": {},
   "outputs": [
    {
     "data": {
      "text/html": [
       "<div>\n",
       "<style scoped>\n",
       "    .dataframe tbody tr th:only-of-type {\n",
       "        vertical-align: middle;\n",
       "    }\n",
       "\n",
       "    .dataframe tbody tr th {\n",
       "        vertical-align: top;\n",
       "    }\n",
       "\n",
       "    .dataframe thead th {\n",
       "        text-align: right;\n",
       "    }\n",
       "</style>\n",
       "<table border=\"1\" class=\"dataframe\">\n",
       "  <thead>\n",
       "    <tr style=\"text-align: right;\">\n",
       "      <th></th>\n",
       "      <th>x</th>\n",
       "      <th>y</th>\n",
       "    </tr>\n",
       "  </thead>\n",
       "  <tbody>\n",
       "    <tr>\n",
       "      <th>0</th>\n",
       "      <td>0.198543</td>\n",
       "      <td>0.418178</td>\n",
       "    </tr>\n",
       "    <tr>\n",
       "      <th>1</th>\n",
       "      <td>0.200987</td>\n",
       "      <td>0.419361</td>\n",
       "    </tr>\n",
       "    <tr>\n",
       "      <th>2</th>\n",
       "      <td>0.198198</td>\n",
       "      <td>0.418730</td>\n",
       "    </tr>\n",
       "    <tr>\n",
       "      <th>3</th>\n",
       "      <td>0.198204</td>\n",
       "      <td>0.415203</td>\n",
       "    </tr>\n",
       "    <tr>\n",
       "      <th>4</th>\n",
       "      <td>0.195436</td>\n",
       "      <td>0.413560</td>\n",
       "    </tr>\n",
       "  </tbody>\n",
       "</table>\n",
       "</div>"
      ],
      "text/plain": [
       "          x         y\n",
       "0  0.198543  0.418178\n",
       "1  0.200987  0.419361\n",
       "2  0.198198  0.418730\n",
       "3  0.198204  0.415203\n",
       "4  0.195436  0.413560"
      ]
     },
     "execution_count": 13,
     "metadata": {},
     "output_type": "execute_result"
    }
   ],
   "source": [
    "# 좌표를 데이터프레임에 저장\n",
    "import pandas as pd\n",
    "df = pd.DataFrame(right_elbow_coordinates, columns=[\"x\", \"y\"])\n",
    "df.head()"
   ]
  },
  {
   "cell_type": "code",
   "execution_count": 14,
   "metadata": {},
   "outputs": [
    {
     "ename": "OSError",
     "evalue": "Cannot save file into a non-existent directory: 'D:/Pitch/coordinates'",
     "output_type": "error",
     "traceback": [
      "\u001b[0;31m---------------------------------------------------------------------------\u001b[0m",
      "\u001b[0;31mOSError\u001b[0m                                   Traceback (most recent call last)",
      "Cell \u001b[0;32mIn[14], line 5\u001b[0m\n\u001b[1;32m      2\u001b[0m output_filename \u001b[39m=\u001b[39m os\u001b[39m.\u001b[39mpath\u001b[39m.\u001b[39mbasename(os\u001b[39m.\u001b[39mpath\u001b[39m.\u001b[39msplitext(input_file)[\u001b[39m0\u001b[39m]) \u001b[39m+\u001b[39m \u001b[39m\"\u001b[39m\u001b[39m_elbow_coordinates.csv\u001b[39m\u001b[39m\"\u001b[39m\n\u001b[1;32m      3\u001b[0m output_file_path \u001b[39m=\u001b[39m os\u001b[39m.\u001b[39mpath\u001b[39m.\u001b[39mjoin(output_dir, output_filename)\n\u001b[0;32m----> 5\u001b[0m df\u001b[39m.\u001b[39;49mto_csv(output_file_path, index\u001b[39m=\u001b[39;49m\u001b[39mFalse\u001b[39;49;00m)\n",
      "File \u001b[0;32m~/opt/anaconda3/envs/Pitch/lib/python3.11/site-packages/pandas/core/generic.py:3772\u001b[0m, in \u001b[0;36mNDFrame.to_csv\u001b[0;34m(self, path_or_buf, sep, na_rep, float_format, columns, header, index, index_label, mode, encoding, compression, quoting, quotechar, lineterminator, chunksize, date_format, doublequote, escapechar, decimal, errors, storage_options)\u001b[0m\n\u001b[1;32m   3761\u001b[0m df \u001b[39m=\u001b[39m \u001b[39mself\u001b[39m \u001b[39mif\u001b[39;00m \u001b[39misinstance\u001b[39m(\u001b[39mself\u001b[39m, ABCDataFrame) \u001b[39melse\u001b[39;00m \u001b[39mself\u001b[39m\u001b[39m.\u001b[39mto_frame()\n\u001b[1;32m   3763\u001b[0m formatter \u001b[39m=\u001b[39m DataFrameFormatter(\n\u001b[1;32m   3764\u001b[0m     frame\u001b[39m=\u001b[39mdf,\n\u001b[1;32m   3765\u001b[0m     header\u001b[39m=\u001b[39mheader,\n\u001b[0;32m   (...)\u001b[0m\n\u001b[1;32m   3769\u001b[0m     decimal\u001b[39m=\u001b[39mdecimal,\n\u001b[1;32m   3770\u001b[0m )\n\u001b[0;32m-> 3772\u001b[0m \u001b[39mreturn\u001b[39;00m DataFrameRenderer(formatter)\u001b[39m.\u001b[39;49mto_csv(\n\u001b[1;32m   3773\u001b[0m     path_or_buf,\n\u001b[1;32m   3774\u001b[0m     lineterminator\u001b[39m=\u001b[39;49mlineterminator,\n\u001b[1;32m   3775\u001b[0m     sep\u001b[39m=\u001b[39;49msep,\n\u001b[1;32m   3776\u001b[0m     encoding\u001b[39m=\u001b[39;49mencoding,\n\u001b[1;32m   3777\u001b[0m     errors\u001b[39m=\u001b[39;49merrors,\n\u001b[1;32m   3778\u001b[0m     compression\u001b[39m=\u001b[39;49mcompression,\n\u001b[1;32m   3779\u001b[0m     quoting\u001b[39m=\u001b[39;49mquoting,\n\u001b[1;32m   3780\u001b[0m     columns\u001b[39m=\u001b[39;49mcolumns,\n\u001b[1;32m   3781\u001b[0m     index_label\u001b[39m=\u001b[39;49mindex_label,\n\u001b[1;32m   3782\u001b[0m     mode\u001b[39m=\u001b[39;49mmode,\n\u001b[1;32m   3783\u001b[0m     chunksize\u001b[39m=\u001b[39;49mchunksize,\n\u001b[1;32m   3784\u001b[0m     quotechar\u001b[39m=\u001b[39;49mquotechar,\n\u001b[1;32m   3785\u001b[0m     date_format\u001b[39m=\u001b[39;49mdate_format,\n\u001b[1;32m   3786\u001b[0m     doublequote\u001b[39m=\u001b[39;49mdoublequote,\n\u001b[1;32m   3787\u001b[0m     escapechar\u001b[39m=\u001b[39;49mescapechar,\n\u001b[1;32m   3788\u001b[0m     storage_options\u001b[39m=\u001b[39;49mstorage_options,\n\u001b[1;32m   3789\u001b[0m )\n",
      "File \u001b[0;32m~/opt/anaconda3/envs/Pitch/lib/python3.11/site-packages/pandas/io/formats/format.py:1186\u001b[0m, in \u001b[0;36mDataFrameRenderer.to_csv\u001b[0;34m(self, path_or_buf, encoding, sep, columns, index_label, mode, compression, quoting, quotechar, lineterminator, chunksize, date_format, doublequote, escapechar, errors, storage_options)\u001b[0m\n\u001b[1;32m   1165\u001b[0m     created_buffer \u001b[39m=\u001b[39m \u001b[39mFalse\u001b[39;00m\n\u001b[1;32m   1167\u001b[0m csv_formatter \u001b[39m=\u001b[39m CSVFormatter(\n\u001b[1;32m   1168\u001b[0m     path_or_buf\u001b[39m=\u001b[39mpath_or_buf,\n\u001b[1;32m   1169\u001b[0m     lineterminator\u001b[39m=\u001b[39mlineterminator,\n\u001b[0;32m   (...)\u001b[0m\n\u001b[1;32m   1184\u001b[0m     formatter\u001b[39m=\u001b[39m\u001b[39mself\u001b[39m\u001b[39m.\u001b[39mfmt,\n\u001b[1;32m   1185\u001b[0m )\n\u001b[0;32m-> 1186\u001b[0m csv_formatter\u001b[39m.\u001b[39;49msave()\n\u001b[1;32m   1188\u001b[0m \u001b[39mif\u001b[39;00m created_buffer:\n\u001b[1;32m   1189\u001b[0m     \u001b[39massert\u001b[39;00m \u001b[39misinstance\u001b[39m(path_or_buf, StringIO)\n",
      "File \u001b[0;32m~/opt/anaconda3/envs/Pitch/lib/python3.11/site-packages/pandas/io/formats/csvs.py:240\u001b[0m, in \u001b[0;36mCSVFormatter.save\u001b[0;34m(self)\u001b[0m\n\u001b[1;32m    236\u001b[0m \u001b[39m\u001b[39m\u001b[39m\"\"\"\u001b[39;00m\n\u001b[1;32m    237\u001b[0m \u001b[39mCreate the writer & save.\u001b[39;00m\n\u001b[1;32m    238\u001b[0m \u001b[39m\"\"\"\u001b[39;00m\n\u001b[1;32m    239\u001b[0m \u001b[39m# apply compression and byte/text conversion\u001b[39;00m\n\u001b[0;32m--> 240\u001b[0m \u001b[39mwith\u001b[39;00m get_handle(\n\u001b[1;32m    241\u001b[0m     \u001b[39mself\u001b[39;49m\u001b[39m.\u001b[39;49mfilepath_or_buffer,\n\u001b[1;32m    242\u001b[0m     \u001b[39mself\u001b[39;49m\u001b[39m.\u001b[39;49mmode,\n\u001b[1;32m    243\u001b[0m     encoding\u001b[39m=\u001b[39;49m\u001b[39mself\u001b[39;49m\u001b[39m.\u001b[39;49mencoding,\n\u001b[1;32m    244\u001b[0m     errors\u001b[39m=\u001b[39;49m\u001b[39mself\u001b[39;49m\u001b[39m.\u001b[39;49merrors,\n\u001b[1;32m    245\u001b[0m     compression\u001b[39m=\u001b[39;49m\u001b[39mself\u001b[39;49m\u001b[39m.\u001b[39;49mcompression,\n\u001b[1;32m    246\u001b[0m     storage_options\u001b[39m=\u001b[39;49m\u001b[39mself\u001b[39;49m\u001b[39m.\u001b[39;49mstorage_options,\n\u001b[1;32m    247\u001b[0m ) \u001b[39mas\u001b[39;00m handles:\n\u001b[1;32m    248\u001b[0m     \u001b[39m# Note: self.encoding is irrelevant here\u001b[39;00m\n\u001b[1;32m    249\u001b[0m     \u001b[39mself\u001b[39m\u001b[39m.\u001b[39mwriter \u001b[39m=\u001b[39m csvlib\u001b[39m.\u001b[39mwriter(\n\u001b[1;32m    250\u001b[0m         handles\u001b[39m.\u001b[39mhandle,\n\u001b[1;32m    251\u001b[0m         lineterminator\u001b[39m=\u001b[39m\u001b[39mself\u001b[39m\u001b[39m.\u001b[39mlineterminator,\n\u001b[0;32m   (...)\u001b[0m\n\u001b[1;32m    256\u001b[0m         quotechar\u001b[39m=\u001b[39m\u001b[39mself\u001b[39m\u001b[39m.\u001b[39mquotechar,\n\u001b[1;32m    257\u001b[0m     )\n\u001b[1;32m    259\u001b[0m     \u001b[39mself\u001b[39m\u001b[39m.\u001b[39m_save()\n",
      "File \u001b[0;32m~/opt/anaconda3/envs/Pitch/lib/python3.11/site-packages/pandas/io/common.py:737\u001b[0m, in \u001b[0;36mget_handle\u001b[0;34m(path_or_buf, mode, encoding, compression, memory_map, is_text, errors, storage_options)\u001b[0m\n\u001b[1;32m    735\u001b[0m \u001b[39m# Only for write methods\u001b[39;00m\n\u001b[1;32m    736\u001b[0m \u001b[39mif\u001b[39;00m \u001b[39m\"\u001b[39m\u001b[39mr\u001b[39m\u001b[39m\"\u001b[39m \u001b[39mnot\u001b[39;00m \u001b[39min\u001b[39;00m mode \u001b[39mand\u001b[39;00m is_path:\n\u001b[0;32m--> 737\u001b[0m     check_parent_directory(\u001b[39mstr\u001b[39;49m(handle))\n\u001b[1;32m    739\u001b[0m \u001b[39mif\u001b[39;00m compression:\n\u001b[1;32m    740\u001b[0m     \u001b[39mif\u001b[39;00m compression \u001b[39m!=\u001b[39m \u001b[39m\"\u001b[39m\u001b[39mzstd\u001b[39m\u001b[39m\"\u001b[39m:\n\u001b[1;32m    741\u001b[0m         \u001b[39m# compression libraries do not like an explicit text-mode\u001b[39;00m\n",
      "File \u001b[0;32m~/opt/anaconda3/envs/Pitch/lib/python3.11/site-packages/pandas/io/common.py:600\u001b[0m, in \u001b[0;36mcheck_parent_directory\u001b[0;34m(path)\u001b[0m\n\u001b[1;32m    598\u001b[0m parent \u001b[39m=\u001b[39m Path(path)\u001b[39m.\u001b[39mparent\n\u001b[1;32m    599\u001b[0m \u001b[39mif\u001b[39;00m \u001b[39mnot\u001b[39;00m parent\u001b[39m.\u001b[39mis_dir():\n\u001b[0;32m--> 600\u001b[0m     \u001b[39mraise\u001b[39;00m \u001b[39mOSError\u001b[39;00m(\u001b[39mrf\u001b[39m\u001b[39m\"\u001b[39m\u001b[39mCannot save file into a non-existent directory: \u001b[39m\u001b[39m'\u001b[39m\u001b[39m{\u001b[39;00mparent\u001b[39m}\u001b[39;00m\u001b[39m'\u001b[39m\u001b[39m\"\u001b[39m)\n",
      "\u001b[0;31mOSError\u001b[0m: Cannot save file into a non-existent directory: 'D:/Pitch/coordinates'"
     ]
    }
   ],
   "source": [
    "output_dir = \"D:/Pitch/coordinates\"\n",
    "output_filename = os.path.basename(os.path.splitext(input_file)[0]) + \"_elbow_coordinates.csv\"\n",
    "output_file_path = os.path.join(output_dir, output_filename)\n",
    "\n",
    "df.to_csv(output_file_path, index=False)"
   ]
  },
  {
   "cell_type": "code",
   "execution_count": 8,
   "metadata": {},
   "outputs": [],
   "source": [
    "import cv2\n",
    "\n",
    "cap = cv2.VideoCapture(output_file)\n",
    "\n",
    "if (cap.isOpened()== False): \n",
    "    print(\"비디오를 열 수 없습니다.\")\n",
    "  \n",
    "while(cap.isOpened()):\n",
    "    ret, frame = cap.read()\n",
    "    if ret == True:\n",
    "        cv2.imshow('Frame', frame)\n",
    "        # q 키를 눌러 비디오 재생을 중지합니다.\n",
    "        if cv2.waitKey(25) & 0xFF == ord('q'):\n",
    "            break\n",
    "    else: \n",
    "        break\n",
    "\n",
    "cap.release()\n",
    "cv2.destroyAllWindows()\n",
    "\n",
    "# q 누르면 비디오 중지됩니다!!! 제발!!!"
   ]
  }
 ],
 "metadata": {
  "kernelspec": {
   "display_name": "PitchingTrack",
   "language": "python",
   "name": "python3"
  },
  "language_info": {
   "codemirror_mode": {
    "name": "ipython",
    "version": 3
   },
   "file_extension": ".py",
   "mimetype": "text/x-python",
   "name": "python",
   "nbconvert_exporter": "python",
   "pygments_lexer": "ipython3",
   "version": "3.11.3"
  },
  "orig_nbformat": 4
 },
 "nbformat": 4,
 "nbformat_minor": 2
}
