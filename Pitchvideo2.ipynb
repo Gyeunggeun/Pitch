{
 "cells": [
  {
   "cell_type": "code",
   "execution_count": 17,
   "metadata": {},
   "outputs": [],
   "source": [
    "import cv2\n",
    "import os\n",
    "from IPython.display import Video"
   ]
  },
  {
   "cell_type": "code",
   "execution_count": 18,
   "metadata": {},
   "outputs": [],
   "source": [
    "# MPII에서 각 파트 번호, 선으로 연결될 POSE_PAIRS\n",
    "BODY_PARTS = { \"Head\": 0, \"Neck\": 1, \"RShoulder\": 2, \"RElbow\": 3, \"RWrist\": 4,\n",
    "                \"LShoulder\": 5, \"LElbow\": 6, \"LWrist\": 7, \"RHip\": 8, \"RKnee\": 9,\n",
    "                \"RAnkle\": 10, \"LHip\": 11, \"LKnee\": 12, \"LAnkle\": 13, \"Chest\": 14,\n",
    "                \"Background\": 15 }\n",
    "\n",
    "POSE_PAIRS = [ [\"Head\", \"Neck\"], [\"Neck\", \"RShoulder\"], [\"RShoulder\", \"RElbow\"],\n",
    "                [\"RElbow\", \"RWrist\"], [\"Neck\", \"LShoulder\"], [\"LShoulder\", \"LElbow\"],\n",
    "                [\"LElbow\", \"LWrist\"], [\"Neck\", \"Chest\"], [\"Chest\", \"RHip\"], [\"RHip\", \"RKnee\"],\n",
    "                [\"RKnee\", \"RAnkle\"], [\"Chest\", \"LHip\"], [\"LHip\", \"LKnee\"], [\"LKnee\", \"LAnkle\"] ]"
   ]
  },
  {
   "cell_type": "code",
   "execution_count": 19,
   "metadata": {},
   "outputs": [],
   "source": [
    "# 각 파일 path\n",
    "protoFile = \"pose_deploy_linevec_faster_4_stages.prototxt\"\n",
    "weightsFile = \"pose_iter_160000.caffemodel\""
   ]
  },
  {
   "cell_type": "code",
   "execution_count": 20,
   "metadata": {},
   "outputs": [],
   "source": [
    "# 위의 path에 있는 network 불러오기\n",
    "net = cv2.dnn.readNetFromCaffe(protoFile, weightsFile)"
   ]
  },
  {
   "cell_type": "code",
   "execution_count": 21,
   "metadata": {},
   "outputs": [],
   "source": [
    "def create_video(input_file):\n",
    "    # 비디오 읽어오기\n",
    "    cap = cv2.VideoCapture(input_file)\n",
    "\n",
    "    # 비디오 저장을 위한 설정\n",
    "    frame_width = int(cap.get(cv2.CAP_PROP_FRAME_WIDTH))\n",
    "    frame_height = int(cap.get(cv2.CAP_PROP_FRAME_HEIGHT))\n",
    "    fps = int(cap.get(cv2.CAP_PROP_FPS))\n",
    "    fourcc = cv2.VideoWriter_fourcc(*'mp4v')\n",
    "\n",
    "    output_file = input_file.replace('.mp4', '_dotted.mp4')\n",
    "    out = cv2.VideoWriter(output_file, fourcc, fps, (frame_width, frame_height))\n",
    "\n",
    "    while cap.isOpened():\n",
    "        # 비디오에서 프레임을 읽어옴\n",
    "        ret, frame = cap.read()\n",
    "        if not ret:\n",
    "            break\n",
    "        \n",
    "        # frame.shape = 불러온 이미지에서 height, width, color 받아옴\n",
    "        frameHeight, frameWidth, _ = frame.shape\n",
    "\n",
    "        # network에 넣기위해 전처리\n",
    "        inpBlob = cv2.dnn.blobFromImage(frame, 1.0 / 255, (frameWidth, frameHeight), (0, 0, 0), swapRB=False, crop=False)\n",
    "\n",
    "        # network에 넣어주기\n",
    "        net.setInput(inpBlob)\n",
    "\n",
    "        # 결과 받아오기\n",
    "        output = net.forward()\n",
    "\n",
    "        # output.shape[0] = 이미지 ID, [1] = 출력 맵의 높이, [2] = 너비\n",
    "        H = output.shape[2]\n",
    "        W = output.shape[3]\n",
    "\n",
    "        # 키포인트 검출시 이미지에 그려줌\n",
    "        points = []\n",
    "        for i in range(0,15):\n",
    "            # 해당 신체부위 신뢰도 얻음.\n",
    "            probMap = output[0, i, :, :]\n",
    "\n",
    "            # global 최대값 찾기\n",
    "            minVal, prob, minLoc, point = cv2.minMaxLoc(probMap)\n",
    "\n",
    "            # 원래 이미지에 맞게 점 위치 변경\n",
    "            x = (frameWidth * point[0]) / W\n",
    "            y = (frameHeight * point[1]) / H\n",
    "\n",
    "            # 키포인트 검출한 결과가 0.1보다 크면(검출한곳이 위 BODY_PARTS랑 맞는 부위면) points에 추가, 검출했는데 부위가 없으면 None으로    \n",
    "            if prob > 0.1 :    \n",
    "                cv2.circle(frame, (int(x), int(y)), 3, (0, 255, 255), thickness=-1, lineType=cv2.FILLED)\n",
    "                cv2.putText(frame, \"{}\".format(i), (int(x), int(y)), cv2.FONT_HERSHEY_SIMPLEX, 0.5, (0, 0, 255), 1, lineType=cv2.LINE_AA)\n",
    "                points.append((int(x), int(y)))\n",
    "            else :\n",
    "                points.append(None)\n",
    "\n",
    "        # 각 POSE_PAIRS별로 선 그어줌 (머리 - 목, 목 - 왼쪽어깨, ...)\n",
    "        for pair in POSE_PAIRS:\n",
    "            partA = pair[0]             # Head\n",
    "            partA = BODY_PARTS[partA]   # 0\n",
    "            partB = pair[1]             # Neck\n",
    "            partB = BODY_PARTS[partB]   # 1\n",
    "\n",
    "            if points[partA] and points[partB]:\n",
    "                cv2.line(frame, points[partA], points[partB], (0, 255, 0), 2)\n",
    "\n",
    "        # frame을 출력 비디오에 저장\n",
    "        out.write(frame)\n",
    "\n",
    "    cap.release()\n",
    "    out.release()\n",
    "    cv2.destroyAllWindows()\n",
    "    return output_file"
   ]
  },
  {
   "cell_type": "code",
   "execution_count": 22,
   "metadata": {},
   "outputs": [
    {
     "ename": "KeyboardInterrupt",
     "evalue": "",
     "output_type": "error",
     "traceback": [
      "\u001b[1;31m---------------------------------------------------------------------------\u001b[0m",
      "\u001b[1;31mKeyboardInterrupt\u001b[0m                         Traceback (most recent call last)",
      "Cell \u001b[1;32mIn[22], line 2\u001b[0m\n\u001b[0;32m      1\u001b[0m \u001b[39m# 비디오를 생성하고 그 결과를 변수에 할당합니다.\u001b[39;00m\n\u001b[1;32m----> 2\u001b[0m video_output \u001b[39m=\u001b[39m create_video(\u001b[39m\"\u001b[39;49m\u001b[39msample_videos/Seohyun.mp4\u001b[39;49m\u001b[39m\"\u001b[39;49m)\n\u001b[0;32m      4\u001b[0m \u001b[39m# 생성된 비디오를 재생합니다.\u001b[39;00m\n\u001b[0;32m      5\u001b[0m Video(video_output)\n",
      "Cell \u001b[1;32mIn[21], line 30\u001b[0m, in \u001b[0;36mcreate_video\u001b[1;34m(input_file)\u001b[0m\n\u001b[0;32m     27\u001b[0m net\u001b[39m.\u001b[39msetInput(inpBlob)\n\u001b[0;32m     29\u001b[0m \u001b[39m# 결과 받아오기\u001b[39;00m\n\u001b[1;32m---> 30\u001b[0m output \u001b[39m=\u001b[39m net\u001b[39m.\u001b[39;49mforward()\n\u001b[0;32m     32\u001b[0m \u001b[39m# output.shape[0] = 이미지 ID, [1] = 출력 맵의 높이, [2] = 너비\u001b[39;00m\n\u001b[0;32m     33\u001b[0m H \u001b[39m=\u001b[39m output\u001b[39m.\u001b[39mshape[\u001b[39m2\u001b[39m]\n",
      "\u001b[1;31mKeyboardInterrupt\u001b[0m: "
     ]
    }
   ],
   "source": [
    "# 비디오를 생성하고 그 결과를 변수에 할당합니다.\n",
    "video_output = create_video(\"sample_videos/Seohyun.mp4\")\n",
    "\n",
    "# 생성된 비디오를 재생합니다.\n",
    "Video(video_output)"
   ]
  },
  {
   "cell_type": "code",
   "execution_count": null,
   "metadata": {},
   "outputs": [],
   "source": []
  }
 ],
 "metadata": {
  "kernelspec": {
   "display_name": "Python 3",
   "language": "python",
   "name": "python3"
  },
  "language_info": {
   "codemirror_mode": {
    "name": "ipython",
    "version": 3
   },
   "file_extension": ".py",
   "mimetype": "text/x-python",
   "name": "python",
   "nbconvert_exporter": "python",
   "pygments_lexer": "ipython3",
   "version": "3.9.16"
  },
  "orig_nbformat": 4
 },
 "nbformat": 4,
 "nbformat_minor": 2
}
