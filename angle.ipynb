{
 "cells": [
  {
   "cell_type": "code",
   "execution_count": 2,
   "metadata": {},
   "outputs": [],
   "source": [
    "import pandas as pd\n",
    "import numpy as np\n",
    "import os"
   ]
  },
  {
   "cell_type": "code",
   "execution_count": 3,
   "metadata": {},
   "outputs": [
    {
     "name": "stdout",
     "output_type": "stream",
     "text": [
      "          x         y\n",
      "0  0.559086  0.531539\n",
      "1  0.555475  0.530428\n",
      "2  0.555496  0.529788\n",
      "3  0.555362  0.528827\n",
      "4  0.555379  0.528082\n",
      "          x         y\n",
      "0  0.171110  0.477804\n",
      "1  0.173505  0.477811\n",
      "2  0.175027  0.477754\n",
      "3  0.175894  0.477759\n",
      "4  0.176424  0.477825\n"
     ]
    }
   ],
   "source": [
    "# 팔꿈치 데이터 불러오기\n",
    "back_elbow = 'coordinates\\\\1_back_elbow_coordinates.csv'\n",
    "bdata = pd.read_csv(back_elbow)\n",
    "right_elbow = 'coordinates\\\\1_right_elbow_coordinates.csv'\n",
    "rdata = pd.read_csv(right_elbow)\n",
    "print(bdata.head())\n",
    "print(rdata.head())"
   ]
  },
  {
   "cell_type": "code",
   "execution_count": 4,
   "metadata": {},
   "outputs": [
    {
     "data": {
      "text/html": [
       "<div>\n",
       "<style scoped>\n",
       "    .dataframe tbody tr th:only-of-type {\n",
       "        vertical-align: middle;\n",
       "    }\n",
       "\n",
       "    .dataframe tbody tr th {\n",
       "        vertical-align: top;\n",
       "    }\n",
       "\n",
       "    .dataframe thead th {\n",
       "        text-align: right;\n",
       "    }\n",
       "</style>\n",
       "<table border=\"1\" class=\"dataframe\">\n",
       "  <thead>\n",
       "    <tr style=\"text-align: right;\">\n",
       "      <th></th>\n",
       "      <th>x</th>\n",
       "      <th>y</th>\n",
       "      <th>z</th>\n",
       "    </tr>\n",
       "  </thead>\n",
       "  <tbody>\n",
       "    <tr>\n",
       "      <th>0</th>\n",
       "      <td>0.559086</td>\n",
       "      <td>0.171110</td>\n",
       "      <td>0.531539</td>\n",
       "    </tr>\n",
       "    <tr>\n",
       "      <th>1</th>\n",
       "      <td>0.555475</td>\n",
       "      <td>0.173505</td>\n",
       "      <td>0.530428</td>\n",
       "    </tr>\n",
       "    <tr>\n",
       "      <th>2</th>\n",
       "      <td>0.555496</td>\n",
       "      <td>0.175027</td>\n",
       "      <td>0.529788</td>\n",
       "    </tr>\n",
       "    <tr>\n",
       "      <th>3</th>\n",
       "      <td>0.555362</td>\n",
       "      <td>0.175894</td>\n",
       "      <td>0.528827</td>\n",
       "    </tr>\n",
       "    <tr>\n",
       "      <th>4</th>\n",
       "      <td>0.555379</td>\n",
       "      <td>0.176424</td>\n",
       "      <td>0.528082</td>\n",
       "    </tr>\n",
       "  </tbody>\n",
       "</table>\n",
       "</div>"
      ],
      "text/plain": [
       "          x         y         z\n",
       "0  0.559086  0.171110  0.531539\n",
       "1  0.555475  0.173505  0.530428\n",
       "2  0.555496  0.175027  0.529788\n",
       "3  0.555362  0.175894  0.528827\n",
       "4  0.555379  0.176424  0.528082"
      ]
     },
     "execution_count": 4,
     "metadata": {},
     "output_type": "execute_result"
    }
   ],
   "source": [
    "# 둘의 y좌표가 안 맞는다...아마 카메라간 각도의 차이 및 구도의 차이 때문에 생기는 오차 같다\n",
    "# 일단 y좌표중 하나를 기준으로 잡고 설정\n",
    "# bdata의 x좌표를 x, y좌표를 z로 바꾸고, rdata의 x를 z로 바꾸고 세 개의 데이터를 합친다\n",
    "\n",
    "# brdata 새로운 데이터프레임에 생성\n",
    "brdata = pd.DataFrame()\n",
    "brdata[['x', 'z']] = bdata[['x', 'y']]\n",
    "brdata[['y']] = rdata[['x']]\n",
    "\n",
    "\n",
    "# 컬럼 순서 변경\n",
    "brdata = brdata[['x', 'y', 'z']]\n",
    "\n",
    "brdata.head()"
   ]
  },
  {
   "cell_type": "code",
   "execution_count": 9,
   "metadata": {},
   "outputs": [],
   "source": [
    "import cv2\n",
    "\n",
    "path = 'sample_videos\\\\1_back.mp4'\n",
    "cap = cv2.VideoCapture(path)\n",
    "\n",
    "# 영상 사이즈 재조정\n",
    "width = 480\n",
    "height = 800\n",
    "\n",
    "frame_number = 0\n",
    "paused = False\n",
    "\n",
    "while True:\n",
    "    if not paused:\n",
    "        ret, frame = cap.read()\n",
    "        frame_number += 1\n",
    "\n",
    "    if ret:  \n",
    "        frame = cv2.resize(frame, (width, height))\n",
    "\n",
    "        # 프레임 수 화면에 표시\n",
    "        cv2.putText(frame, f\"Frame: {frame_number}\", (10, 30), cv2.FONT_HERSHEY_SIMPLEX, 1, (255, 255, 255), 2)\n",
    "\n",
    "        cv2.imshow('video', frame)\n",
    "        \n",
    "    else:\n",
    "        print(\"Failed to retrieve frame\")\n",
    "        break\n",
    "\n",
    "    key = cv2.waitKey(1)\n",
    "    if key == ord('q'):\n",
    "        break\n",
    "    elif key == ord('p'):  # p 누르면 영상 일시정지 기능 추가\n",
    "        paused = not paused  \n",
    "\n",
    "cap.release()\n",
    "cv2.destroyAllWindows()"
   ]
  },
  {
   "cell_type": "code",
   "execution_count": 12,
   "metadata": {},
   "outputs": [
    {
     "name": "stdout",
     "output_type": "stream",
     "text": [
      "x    0.476520\n",
      "y    0.197982\n",
      "z    0.525808\n",
      "Name: 190, dtype: float64\n",
      "x    0.475219\n",
      "y    0.198831\n",
      "z    0.490253\n",
      "Name: 220, dtype: float64\n"
     ]
    }
   ],
   "source": [
    "# 1번 영상의 경우 시작 : 190 프레임 종료 : 220프레임으로 설정\n",
    "# 190번째 행과 220번째 행의 좌표 추출\n",
    "# 190번째 행의 좌표\n",
    "elstart = brdata.iloc[190]\n",
    "# 220번째 행의 좌표\n",
    "elend = brdata.iloc[220]\n",
    "print(elstart)\n",
    "print(elend)"
   ]
  },
  {
   "cell_type": "code",
   "execution_count": 13,
   "metadata": {},
   "outputs": [
    {
     "name": "stdout",
     "output_type": "stream",
     "text": [
      "          x         y\n",
      "0  0.458757  0.453358\n",
      "1  0.456473  0.450861\n",
      "2  0.458258  0.450469\n",
      "3  0.458726  0.450281\n",
      "4  0.458728  0.450338\n",
      "          x         y\n",
      "0  0.212694  0.436688\n",
      "1  0.212631  0.436080\n",
      "2  0.212598  0.435687\n",
      "3  0.212590  0.435473\n",
      "4  0.212684  0.435288\n"
     ]
    }
   ],
   "source": [
    "# 어깨 데이터 불러오기\n",
    "back_shoulder = 'coordinates\\\\1_back_shoulder_coordinates.csv'\n",
    "bdata1 = pd.read_csv(back_shoulder)\n",
    "right_shoulder = 'coordinates\\\\1_right_shoulder_coordinates.csv'\n",
    "rdata1 = pd.read_csv(right_shoulder)\n",
    "print(bdata1.head())\n",
    "print(rdata1.head())"
   ]
  },
  {
   "cell_type": "code",
   "execution_count": 14,
   "metadata": {},
   "outputs": [
    {
     "data": {
      "text/html": [
       "<div>\n",
       "<style scoped>\n",
       "    .dataframe tbody tr th:only-of-type {\n",
       "        vertical-align: middle;\n",
       "    }\n",
       "\n",
       "    .dataframe tbody tr th {\n",
       "        vertical-align: top;\n",
       "    }\n",
       "\n",
       "    .dataframe thead th {\n",
       "        text-align: right;\n",
       "    }\n",
       "</style>\n",
       "<table border=\"1\" class=\"dataframe\">\n",
       "  <thead>\n",
       "    <tr style=\"text-align: right;\">\n",
       "      <th></th>\n",
       "      <th>x</th>\n",
       "      <th>y</th>\n",
       "      <th>z</th>\n",
       "    </tr>\n",
       "  </thead>\n",
       "  <tbody>\n",
       "    <tr>\n",
       "      <th>0</th>\n",
       "      <td>0.458757</td>\n",
       "      <td>0.212694</td>\n",
       "      <td>0.453358</td>\n",
       "    </tr>\n",
       "    <tr>\n",
       "      <th>1</th>\n",
       "      <td>0.456473</td>\n",
       "      <td>0.212631</td>\n",
       "      <td>0.450861</td>\n",
       "    </tr>\n",
       "    <tr>\n",
       "      <th>2</th>\n",
       "      <td>0.458258</td>\n",
       "      <td>0.212598</td>\n",
       "      <td>0.450469</td>\n",
       "    </tr>\n",
       "    <tr>\n",
       "      <th>3</th>\n",
       "      <td>0.458726</td>\n",
       "      <td>0.212590</td>\n",
       "      <td>0.450281</td>\n",
       "    </tr>\n",
       "    <tr>\n",
       "      <th>4</th>\n",
       "      <td>0.458728</td>\n",
       "      <td>0.212684</td>\n",
       "      <td>0.450338</td>\n",
       "    </tr>\n",
       "  </tbody>\n",
       "</table>\n",
       "</div>"
      ],
      "text/plain": [
       "          x         y         z\n",
       "0  0.458757  0.212694  0.453358\n",
       "1  0.456473  0.212631  0.450861\n",
       "2  0.458258  0.212598  0.450469\n",
       "3  0.458726  0.212590  0.450281\n",
       "4  0.458728  0.212684  0.450338"
      ]
     },
     "execution_count": 14,
     "metadata": {},
     "output_type": "execute_result"
    }
   ],
   "source": [
    "# 어깨도 좌표 맞춰보기\n",
    "br1data = pd.DataFrame()\n",
    "br1data[['x', 'z']] = bdata1[['x', 'y']]\n",
    "br1data[['y']] = rdata1[['x']]\n",
    "br1data = br1data[['x', 'y', 'z']]\n",
    "br1data.head()"
   ]
  },
  {
   "cell_type": "code",
   "execution_count": 15,
   "metadata": {},
   "outputs": [
    {
     "data": {
      "text/html": [
       "<div>\n",
       "<style scoped>\n",
       "    .dataframe tbody tr th:only-of-type {\n",
       "        vertical-align: middle;\n",
       "    }\n",
       "\n",
       "    .dataframe tbody tr th {\n",
       "        vertical-align: top;\n",
       "    }\n",
       "\n",
       "    .dataframe thead th {\n",
       "        text-align: right;\n",
       "    }\n",
       "</style>\n",
       "<table border=\"1\" class=\"dataframe\">\n",
       "  <thead>\n",
       "    <tr style=\"text-align: right;\">\n",
       "      <th></th>\n",
       "      <th>x</th>\n",
       "      <th>y</th>\n",
       "      <th>z</th>\n",
       "    </tr>\n",
       "  </thead>\n",
       "  <tbody>\n",
       "    <tr>\n",
       "      <th>0</th>\n",
       "      <td>0.559086</td>\n",
       "      <td>0.171110</td>\n",
       "      <td>0.531539</td>\n",
       "    </tr>\n",
       "    <tr>\n",
       "      <th>1</th>\n",
       "      <td>0.555475</td>\n",
       "      <td>0.173505</td>\n",
       "      <td>0.530428</td>\n",
       "    </tr>\n",
       "    <tr>\n",
       "      <th>2</th>\n",
       "      <td>0.555496</td>\n",
       "      <td>0.175027</td>\n",
       "      <td>0.529788</td>\n",
       "    </tr>\n",
       "    <tr>\n",
       "      <th>3</th>\n",
       "      <td>0.555362</td>\n",
       "      <td>0.175894</td>\n",
       "      <td>0.528827</td>\n",
       "    </tr>\n",
       "    <tr>\n",
       "      <th>4</th>\n",
       "      <td>0.555379</td>\n",
       "      <td>0.176424</td>\n",
       "      <td>0.528082</td>\n",
       "    </tr>\n",
       "  </tbody>\n",
       "</table>\n",
       "</div>"
      ],
      "text/plain": [
       "          x         y         z\n",
       "0  0.559086  0.171110  0.531539\n",
       "1  0.555475  0.173505  0.530428\n",
       "2  0.555496  0.175027  0.529788\n",
       "3  0.555362  0.175894  0.528827\n",
       "4  0.555379  0.176424  0.528082"
      ]
     },
     "execution_count": 15,
     "metadata": {},
     "output_type": "execute_result"
    }
   ],
   "source": [
    "brdata.head()"
   ]
  },
  {
   "cell_type": "code",
   "execution_count": 16,
   "metadata": {},
   "outputs": [
    {
     "name": "stdout",
     "output_type": "stream",
     "text": [
      "x    0.502348\n",
      "y    0.230367\n",
      "z    0.491745\n",
      "Name: 190, dtype: float64\n",
      "x    0.366219\n",
      "y    0.234273\n",
      "z    0.465363\n",
      "Name: 220, dtype: float64\n"
     ]
    }
   ],
   "source": [
    "# brdata와 br1data 의 190번째 행과 220번째 행의 좌표값을 벡터로 추출\n",
    "# 190번째 행의 좌표\n",
    "shstart = br1data.iloc[190]\n",
    "# 220번째 행의 좌표\n",
    "shend = br1data.iloc[220]\n",
    "print(shstart)\n",
    "print(shend)"
   ]
  },
  {
   "cell_type": "code",
   "execution_count": 20,
   "metadata": {},
   "outputs": [
    {
     "name": "stdout",
     "output_type": "stream",
     "text": [
      "x   -0.025827\n",
      "y   -0.032385\n",
      "z    0.034063\n",
      "Name: 190, dtype: float64\n",
      "x    0.109000\n",
      "y   -0.035441\n",
      "z    0.024890\n",
      "Name: 220, dtype: float64\n"
     ]
    }
   ],
   "source": [
    "# elstart-shstart 벡터값 추출 및 절대값 도출\n",
    "elshstart = elstart - shstart\n",
    "print(elshstart)\n",
    "elshend = elend - shend\n",
    "print(elshend)"
   ]
  },
  {
   "cell_type": "code",
   "execution_count": 23,
   "metadata": {},
   "outputs": [
    {
     "name": "stdout",
     "output_type": "stream",
     "text": [
      "97.48653693023982\n"
     ]
    }
   ],
   "source": [
    "# 두 벡터값 내적 구하기\n",
    "# 주어진 두 벡터\n",
    "v1 = pd.Series({'x': -0.025827, 'y': -0.032385, 'z': 0.034063})\n",
    "v2 = pd.Series({'x': 0.109000, 'y': -0.035441, 'z': 0.024890})\n",
    "\n",
    "# 내적\n",
    "dp = (v1 * v2).sum()\n",
    "\n",
    "# 벡터의 크기\n",
    "mag_v1 = np.sqrt((v1**2).sum())\n",
    "mag_v2 = np.sqrt((v2**2).sum())\n",
    "\n",
    "# 벡터의 크기를 이용한 코사인값 계산\n",
    "cos_angle = dp / (mag_v1 * mag_v2)\n",
    "\n",
    "# 코사인값을 이용한 각도 계산\n",
    "angle_rad = np.arccos(cos_angle)\n",
    "\n",
    "# 라디안 각도를 도로 변환\n",
    "angle_deg = np.degrees(angle_rad)\n",
    "print(angle_deg)"
   ]
  },
  {
   "cell_type": "code",
   "execution_count": null,
   "metadata": {},
   "outputs": [],
   "source": []
  }
 ],
 "metadata": {
  "kernelspec": {
   "display_name": "PitchingTrack",
   "language": "python",
   "name": "python3"
  },
  "language_info": {
   "codemirror_mode": {
    "name": "ipython",
    "version": 3
   },
   "file_extension": ".py",
   "mimetype": "text/x-python",
   "name": "python",
   "nbconvert_exporter": "python",
   "pygments_lexer": "ipython3",
   "version": "3.9.16"
  },
  "orig_nbformat": 4
 },
 "nbformat": 4,
 "nbformat_minor": 2
}
