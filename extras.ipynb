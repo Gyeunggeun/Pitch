{
 "cells": [
  {
   "cell_type": "code",
   "execution_count": 1,
   "metadata": {},
   "outputs": [],
   "source": [
    "import pandas as pd \n",
    "import numpy as np"
   ]
  },
  {
   "cell_type": "code",
   "execution_count": 4,
   "metadata": {},
   "outputs": [
    {
     "data": {
      "text/html": [
       "<div>\n",
       "<style scoped>\n",
       "    .dataframe tbody tr th:only-of-type {\n",
       "        vertical-align: middle;\n",
       "    }\n",
       "\n",
       "    .dataframe tbody tr th {\n",
       "        vertical-align: top;\n",
       "    }\n",
       "\n",
       "    .dataframe thead th {\n",
       "        text-align: right;\n",
       "    }\n",
       "</style>\n",
       "<table border=\"1\" class=\"dataframe\">\n",
       "  <thead>\n",
       "    <tr style=\"text-align: right;\">\n",
       "      <th></th>\n",
       "      <th>날짜</th>\n",
       "      <th>팀</th>\n",
       "      <th>선수</th>\n",
       "      <th>일수</th>\n",
       "      <th>포지션</th>\n",
       "      <th>부상명</th>\n",
       "      <th>예상 복귀일</th>\n",
       "    </tr>\n",
       "  </thead>\n",
       "  <tbody>\n",
       "    <tr>\n",
       "      <th>0</th>\n",
       "      <td>2022.5.2</td>\n",
       "      <td>LG</td>\n",
       "      <td>임찬규</td>\n",
       "      <td>10</td>\n",
       "      <td>투수</td>\n",
       "      <td>Back tightness</td>\n",
       "      <td>D - 1</td>\n",
       "    </tr>\n",
       "    <tr>\n",
       "      <th>1</th>\n",
       "      <td>2022.5.19</td>\n",
       "      <td>LG</td>\n",
       "      <td>이우찬</td>\n",
       "      <td>10</td>\n",
       "      <td>투수</td>\n",
       "      <td>Elbow tendinitis</td>\n",
       "      <td>D - 5</td>\n",
       "    </tr>\n",
       "    <tr>\n",
       "      <th>2</th>\n",
       "      <td>2022.5.26</td>\n",
       "      <td>LG</td>\n",
       "      <td>임찬규</td>\n",
       "      <td>10</td>\n",
       "      <td>투수</td>\n",
       "      <td>Knee contusion</td>\n",
       "      <td>D - 3</td>\n",
       "    </tr>\n",
       "    <tr>\n",
       "      <th>3</th>\n",
       "      <td>2022.6.5</td>\n",
       "      <td>LG</td>\n",
       "      <td>임찬규</td>\n",
       "      <td>10</td>\n",
       "      <td>투수</td>\n",
       "      <td>Sprained elbow</td>\n",
       "      <td>D - 10</td>\n",
       "    </tr>\n",
       "    <tr>\n",
       "      <th>4</th>\n",
       "      <td>2022.9.30</td>\n",
       "      <td>LG</td>\n",
       "      <td>최성훈</td>\n",
       "      <td>10</td>\n",
       "      <td>투수</td>\n",
       "      <td>Flexor tendon surgery</td>\n",
       "      <td>D - 10</td>\n",
       "    </tr>\n",
       "  </tbody>\n",
       "</table>\n",
       "</div>"
      ],
      "text/plain": [
       "          날짜   팀   선수  일수 포지션                    부상명  예상 복귀일\n",
       "0   2022.5.2  LG  임찬규  10  투수         Back tightness   D - 1\n",
       "1  2022.5.19  LG  이우찬  10  투수       Elbow tendinitis   D - 5\n",
       "2  2022.5.26  LG  임찬규  10  투수         Knee contusion   D - 3\n",
       "3   2022.6.5  LG  임찬규  10  투수         Sprained elbow  D - 10\n",
       "4  2022.9.30  LG  최성훈  10  투수  Flexor tendon surgery  D - 10"
      ]
     },
     "execution_count": 4,
     "metadata": {},
     "output_type": "execute_result"
    }
   ],
   "source": [
    "df = pd.read_csv('Injured_List3.csv', encoding='euc-kr')\n",
    "df.head()"
   ]
  },
  {
   "cell_type": "code",
   "execution_count": 6,
   "metadata": {},
   "outputs": [
    {
     "data": {
      "text/plain": [
       "0            Back tightness\n",
       "1          Elbow tendinitis\n",
       "2            Knee contusion\n",
       "3            Sprained elbow\n",
       "4     Flexor tendon surgery\n",
       "5          Strained oblique\n",
       "6        Elbow inflammation\n",
       "7     Shoulder inflammation\n",
       "8       Shoulder discomfort\n",
       "9     Shoulder inflammation\n",
       "10      Shoulder discomfort\n",
       "11      Shoulder discomfort\n",
       "Name: 부상명, dtype: object"
      ]
     },
     "execution_count": 6,
     "metadata": {},
     "output_type": "execute_result"
    }
   ],
   "source": [
    "# '부상명' 열의 원소 이름을 전부 한글로 바꿔야 한다\n",
    "# 먼저, 부상명 열의 원소들 전부 출력\n",
    "df['부상명']"
   ]
  },
  {
   "cell_type": "code",
   "execution_count": 7,
   "metadata": {},
   "outputs": [],
   "source": [
    "# 각각 윈소를 팔꿈치 힘줄염좌, 무릎 염증, 팔 관절 염좌, 굴근 수술, 옆구리 근육통, 어깨 염증, 어깨 결견으로 바꾸기\n",
    "df['부상명'] = df['부상명'].replace('Elbow tendinitis', '팔꿈치 힘줄염좌')\n",
    "df['부상명'] = df['부상명'].replace('Knee inflammation', '무릎 염증')\n",
    "df['부상명'] = df['부상명'].replace('Sprained elbow', '팔꿈치 염좌')\n",
    "df['부상명'] = df['부상명'].replace('Flexor tendon surgery', '굴근 수술')\n",
    "df['부상명'] = df['부상명'].replace('Shoulder inflammation', '어깨 염증')\n",
    "df['부상명'] = df['부상명'].replace('Shoulder discomfort', '어깨 결견')\n",
    "df['부상명'] = df['부상명'].replace('Back tightness', '등 근육통')\n",
    "df['부상명'] = df['부상명'].replace('Strained oblique', '옆구리 근육통')\n",
    "df['부상명'] = df['부상명'].replace('Elbow inflammation', '팔꿈치 염증')\n"
   ]
  },
  {
   "cell_type": "code",
   "execution_count": 10,
   "metadata": {},
   "outputs": [
    {
     "data": {
      "text/plain": [
       "0        등 근육통\n",
       "1     팔꿈치 힘줄염좌\n",
       "2       무릎 타박상\n",
       "3       팔꿈치 염좌\n",
       "4        굴근 수술\n",
       "5      옆구리 근육통\n",
       "6       팔꿈치 염증\n",
       "7        어깨 염증\n",
       "8        어깨 결견\n",
       "9        어깨 염증\n",
       "10       어깨 결견\n",
       "11       어깨 결견\n",
       "Name: 부상명, dtype: object"
      ]
     },
     "execution_count": 10,
     "metadata": {},
     "output_type": "execute_result"
    }
   ],
   "source": [
    "df['부상명']"
   ]
  },
  {
   "cell_type": "code",
   "execution_count": 9,
   "metadata": {},
   "outputs": [],
   "source": [
    "df['부상명'] =  df['부상명'].replace('Knee contusion', '무릎 타박상')"
   ]
  },
  {
   "cell_type": "code",
   "execution_count": 11,
   "metadata": {},
   "outputs": [],
   "source": [
    "# 원본 파일에 저장\n",
    "df.to_csv('Injured_List3.csv', encoding='euc-kr', index=False)"
   ]
  },
  {
   "cell_type": "code",
   "execution_count": 16,
   "metadata": {},
   "outputs": [
    {
     "data": {
      "text/html": [
       "<div>\n",
       "<style scoped>\n",
       "    .dataframe tbody tr th:only-of-type {\n",
       "        vertical-align: middle;\n",
       "    }\n",
       "\n",
       "    .dataframe tbody tr th {\n",
       "        vertical-align: top;\n",
       "    }\n",
       "\n",
       "    .dataframe thead th {\n",
       "        text-align: right;\n",
       "    }\n",
       "</style>\n",
       "<table border=\"1\" class=\"dataframe\">\n",
       "  <thead>\n",
       "    <tr style=\"text-align: right;\">\n",
       "      <th></th>\n",
       "      <th>날짜</th>\n",
       "      <th>선수</th>\n",
       "      <th>부상명</th>\n",
       "      <th>예상 복귀일</th>\n",
       "    </tr>\n",
       "  </thead>\n",
       "  <tbody>\n",
       "    <tr>\n",
       "      <th>0</th>\n",
       "      <td>2022.5.2</td>\n",
       "      <td>임찬규</td>\n",
       "      <td>Back tightness</td>\n",
       "      <td>D - 1</td>\n",
       "    </tr>\n",
       "    <tr>\n",
       "      <th>1</th>\n",
       "      <td>2022.5.19</td>\n",
       "      <td>이우찬</td>\n",
       "      <td>Elbow tendinitis</td>\n",
       "      <td>D - 5</td>\n",
       "    </tr>\n",
       "    <tr>\n",
       "      <th>2</th>\n",
       "      <td>2022.5.26</td>\n",
       "      <td>임찬규</td>\n",
       "      <td>Knee contusion</td>\n",
       "      <td>D - 3</td>\n",
       "    </tr>\n",
       "    <tr>\n",
       "      <th>3</th>\n",
       "      <td>2022.6.5</td>\n",
       "      <td>임찬규</td>\n",
       "      <td>Sprained elbow</td>\n",
       "      <td>D - 10</td>\n",
       "    </tr>\n",
       "    <tr>\n",
       "      <th>4</th>\n",
       "      <td>2022.9.30</td>\n",
       "      <td>최성훈</td>\n",
       "      <td>Flexor tendon surgery</td>\n",
       "      <td>D - 10</td>\n",
       "    </tr>\n",
       "  </tbody>\n",
       "</table>\n",
       "</div>"
      ],
      "text/plain": [
       "          날짜   선수                    부상명  예상 복귀일\n",
       "0   2022.5.2  임찬규         Back tightness   D - 1\n",
       "1  2022.5.19  이우찬       Elbow tendinitis   D - 5\n",
       "2  2022.5.26  임찬규         Knee contusion   D - 3\n",
       "3   2022.6.5  임찬규         Sprained elbow  D - 10\n",
       "4  2022.9.30  최성훈  Flexor tendon surgery  D - 10"
      ]
     },
     "execution_count": 16,
     "metadata": {},
     "output_type": "execute_result"
    }
   ],
   "source": [
    "df1 = pd.read_csv('./players/Injured_List4.csv')\n",
    "df.head()"
   ]
  },
  {
   "cell_type": "code",
   "execution_count": 17,
   "metadata": {},
   "outputs": [
    {
     "data": {
      "text/plain": [
       "0            Back tightness\n",
       "1          Elbow tendinitis\n",
       "2            Knee contusion\n",
       "3            Sprained elbow\n",
       "4     Flexor tendon surgery\n",
       "5          Strained oblique\n",
       "6        Elbow inflammation\n",
       "7     Shoulder inflammation\n",
       "8       Shoulder discomfort\n",
       "9     Shoulder inflammation\n",
       "10      Shoulder discomfort\n",
       "11      Shoulder discomfort\n",
       "Name: 부상명, dtype: object"
      ]
     },
     "execution_count": 17,
     "metadata": {},
     "output_type": "execute_result"
    }
   ],
   "source": [
    "df1['부상명']"
   ]
  },
  {
   "cell_type": "code",
   "execution_count": 18,
   "metadata": {},
   "outputs": [],
   "source": [
    "df1['부상명'] = df1['부상명'].replace('Elbow tendinitis', '팔꿈치 힘줄염좌')\n",
    "df1['부상명'] = df1['부상명'].replace('Knee inflammation', '무릎 염증')\n",
    "df1['부상명'] = df1['부상명'].replace('Sprained elbow', '팔꿈치 염좌')\n",
    "df1['부상명'] = df1['부상명'].replace('Flexor tendon surgery', '굴근 수술')\n",
    "df1['부상명'] = df1['부상명'].replace('Shoulder inflammation', '어깨 염증')\n",
    "df1['부상명'] = df1['부상명'].replace('Shoulder discomfort', '어깨 결견')\n",
    "df1['부상명'] = df1['부상명'].replace('Back tightness', '등 근육통')\n",
    "df1['부상명'] = df1['부상명'].replace('Strained oblique', '옆구리 근육통')\n",
    "df1['부상명'] = df1['부상명'].replace('Elbow inflammation', '팔꿈치 염증')\n",
    "df1['부상명'] =  df1['부상명'].replace('Knee contusion', '무릎 타박상')"
   ]
  },
  {
   "cell_type": "code",
   "execution_count": 19,
   "metadata": {},
   "outputs": [
    {
     "data": {
      "text/plain": [
       "0        등 근육통\n",
       "1     팔꿈치 힘줄염좌\n",
       "2       무릎 타박상\n",
       "3       팔꿈치 염좌\n",
       "4        굴근 수술\n",
       "5      옆구리 근육통\n",
       "6       팔꿈치 염증\n",
       "7        어깨 염증\n",
       "8        어깨 결견\n",
       "9        어깨 염증\n",
       "10       어깨 결견\n",
       "11       어깨 결견\n",
       "Name: 부상명, dtype: object"
      ]
     },
     "execution_count": 19,
     "metadata": {},
     "output_type": "execute_result"
    }
   ],
   "source": [
    "df1['부상명']"
   ]
  },
  {
   "cell_type": "code",
   "execution_count": 20,
   "metadata": {},
   "outputs": [],
   "source": [
    "df1.to_csv('./players/Injured_List4.csv', encoding='euc-kr', index=False)"
   ]
  },
  {
   "cell_type": "code",
   "execution_count": null,
   "metadata": {},
   "outputs": [],
   "source": []
  }
 ],
 "metadata": {
  "kernelspec": {
   "display_name": "Pitch",
   "language": "python",
   "name": "python3"
  },
  "language_info": {
   "codemirror_mode": {
    "name": "ipython",
    "version": 3
   },
   "file_extension": ".py",
   "mimetype": "text/x-python",
   "name": "python",
   "nbconvert_exporter": "python",
   "pygments_lexer": "ipython3",
   "version": "3.11.3"
  },
  "orig_nbformat": 4
 },
 "nbformat": 4,
 "nbformat_minor": 2
}
